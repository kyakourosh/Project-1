{
 "cells": [
  {
   "cell_type": "markdown",
   "id": "6ff2e4d4",
   "metadata": {},
   "source": [
    "# 📝 Sales Analysis Project Report"
   ]
  },
  {
   "cell_type": "markdown",
   "id": "161d3603",
   "metadata": {},
   "source": [
    "## 1. Data Wrangling\n",
    "\n",
    "### 1.1 Cleaning and Preparing the Data"
   ]
  },
  {
   "cell_type": "code",
   "execution_count": null,
   "id": "a0e989df",
   "metadata": {},
   "outputs": [],
   "source": [
    "# Cleaning 'Income' and handling missing values\n",
    "marketing_data['Income'] = marketing_data['Income'].replace('[\\$,]', '', regex=True).astype(float)\n",
    "marketing_data['Income'].fillna(marketing_data['Income'].median(), inplace=True)"
   ]
  },
  {
   "cell_type": "markdown",
   "id": "6febeb6a",
   "metadata": {},
   "source": [
    "### 1.2 Normalization"
   ]
  },
  {
   "cell_type": "code",
   "execution_count": null,
   "id": "8cb24cac",
   "metadata": {},
   "outputs": [],
   "source": [
    "from sklearn.preprocessing import MinMaxScaler\n",
    "\n",
    "numeric_columns = marketing_data.select_dtypes(include=['int64', 'float64']).columns\n",
    "scaler = MinMaxScaler()\n",
    "marketing_data[numeric_columns] = scaler.fit_transform(marketing_data[numeric_columns])"
   ]
  },
  {
   "cell_type": "markdown",
   "id": "dfc5cbcc",
   "metadata": {},
   "source": [
    "## 2. Data Analysis\n",
    "\n",
    "### 2.1 Descriptive Statistics"
   ]
  },
  {
   "cell_type": "code",
   "execution_count": null,
   "id": "6dc75d98",
   "metadata": {},
   "outputs": [],
   "source": [
    "# Calculating descriptive stats\n",
    "purchase_columns = ['Income', 'MntWines', 'MntFruits', 'MntMeatProducts', \n",
    "                    'MntFishProducts', 'MntSweetProducts', 'MntGoldProds']\n",
    "\n",
    "descriptive_stats = {\n",
    "    \"Mean\": marketing_data[purchase_columns].mean(),\n",
    "    \"Median\": marketing_data[purchase_columns].median(),\n",
    "    \"Mode\": marketing_data[purchase_columns].mode().iloc[0],\n",
    "    \"Standard Deviation\": marketing_data[purchase_columns].std()\n",
    "}\n",
    "\n",
    "pd.DataFrame(descriptive_stats)"
   ]
  },
  {
   "cell_type": "markdown",
   "id": "72f5fd10",
   "metadata": {},
   "source": [
    "### 2.2 Time-Based Sales Reports"
   ]
  },
  {
   "cell_type": "code",
   "execution_count": null,
   "id": "efc265d1",
   "metadata": {},
   "outputs": [],
   "source": [
    "# Parsing date and computing reports\n",
    "marketing_data['Dt_Customer'] = pd.to_datetime(marketing_data['Dt_Customer'], format='%m/%d/%y')\n",
    "marketing_data['TotalSpend'] = marketing_data[['MntWines', 'MntFruits', 'MntMeatProducts',\n",
    "                                                'MntFishProducts', 'MntSweetProducts', 'MntGoldProds']].sum(axis=1)\n",
    "\n",
    "marketing_data['Week'] = marketing_data['Dt_Customer'].dt.isocalendar().week\n",
    "marketing_data['Month'] = marketing_data['Dt_Customer'].dt.month\n",
    "marketing_data['Quarter'] = marketing_data['Dt_Customer'].dt.quarter\n",
    "\n",
    "weekly = marketing_data.groupby('Week')['TotalSpend'].sum()\n",
    "monthly = marketing_data.groupby('Month')['TotalSpend'].sum()\n",
    "quarterly = marketing_data.groupby('Quarter')['TotalSpend'].sum()\n",
    "\n",
    "pd.DataFrame({'Weekly Spend': weekly, 'Monthly Spend': monthly.reindex(range(1, 13)), 'Quarterly Spend': quarterly.reindex(range(1, 5))})"
   ]
  },
  {
   "cell_type": "markdown",
   "id": "995b0988",
   "metadata": {},
   "source": [
    "## 3. Data Visualization\n",
    "\n",
    "### 3.1 State-Wise Demographic Analysis"
   ]
  },
  {
   "cell_type": "code",
   "execution_count": null,
   "id": "d314e75b",
   "metadata": {},
   "outputs": [],
   "source": [
    "import seaborn as sns\n",
    "import matplotlib.pyplot as plt\n",
    "\n",
    "sns.set(style=\"whitegrid\")\n",
    "marketing_data['Demographic'] = marketing_data['Kidhome'] + marketing_data['Teenhome']\n",
    "marketing_data['Demographic'] = marketing_data['Demographic'].map({0: 'Adults Only', 1: 'Family', 2: 'Family', 3: 'Large Family'})\n",
    "\n",
    "state_demo = marketing_data.groupby(['Country', 'Demographic'])['TotalSpend'].mean().reset_index()\n",
    "plt.figure(figsize=(12, 6))\n",
    "sns.barplot(data=state_demo, x='Country', y='TotalSpend', hue='Demographic')\n",
    "plt.title('Average Total Spend by State and Demographic Group')\n",
    "plt.xticks(rotation=45)\n",
    "plt.tight_layout()\n",
    "plt.show()"
   ]
  },
  {
   "cell_type": "markdown",
   "id": "447152d3",
   "metadata": {},
   "source": [
    "### 3.2 Group-Wise Sales Breakdown"
   ]
  },
  {
   "cell_type": "code",
   "execution_count": null,
   "id": "d48def81",
   "metadata": {},
   "outputs": [],
   "source": [
    "group_sales = marketing_data.groupby('Demographic')[['MntWines', 'MntFruits',\n",
    "                        'MntMeatProducts', 'MntFishProducts', 'MntSweetProducts', 'MntGoldProds']].mean().reset_index()\n",
    "group_sales_melted = group_sales.melt(id_vars='Demographic', var_name='Product', value_name='Average Spend')\n",
    "\n",
    "plt.figure(figsize=(12, 6))\n",
    "sns.barplot(data=group_sales_melted, x='Product', y='Average Spend', hue='Demographic')\n",
    "plt.title('Group-wise Average Product Spend Across Demographics')\n",
    "plt.xticks(rotation=45)\n",
    "plt.tight_layout()\n",
    "plt.show()"
   ]
  },
  {
   "cell_type": "markdown",
   "id": "ba399fed",
   "metadata": {},
   "source": [
    "### 3.3 Recency-Based Engagement Analysis"
   ]
  },
  {
   "cell_type": "code",
   "execution_count": null,
   "id": "6169e4b5",
   "metadata": {},
   "outputs": [],
   "source": [
    "bins = [0, 10, 30, 60, 90, 120]\n",
    "labels = ['Very Recent (0-10)', 'Recent (11-30)', 'Moderate (31-60)', 'Stale (61-90)', 'Old (91-120)']\n",
    "marketing_data['RecencyRange'] = pd.cut(marketing_data['Recency'] * 120, bins=bins, labels=labels, include_lowest=True)\n",
    "\n",
    "recency_analysis = marketing_data.groupby('RecencyRange')['TotalSpend'].mean().reset_index()\n",
    "\n",
    "plt.figure(figsize=(10, 5))\n",
    "sns.barplot(data=recency_analysis, x='RecencyRange', y='TotalSpend', palette='viridis')\n",
    "plt.title('Average Spend by Recency of Last Purchase')\n",
    "plt.xticks(rotation=30)\n",
    "plt.tight_layout()\n",
    "plt.show()"
   ]
  },
  {
   "cell_type": "markdown",
   "id": "247fda4b",
   "metadata": {},
   "source": [
    "## 4. Recommendations\n",
    "\n",
    "- Focus on high-spending demographics and states.\n",
    "- Introduce targeted programs in lower-revenue states.\n",
    "- Leverage recency trends to optimize campaign timing."
   ]
  },
  {
   "cell_type": "markdown",
   "id": "079a0065",
   "metadata": {},
   "source": [
    "## 5. Tools Used\n",
    "\n",
    "- **Python** (pandas, numpy, seaborn, matplotlib, sklearn)\n",
    "- **Jupyter Notebook**"
   ]
  }
 ],
 "metadata": {},
 "nbformat": 4,
 "nbformat_minor": 5
}
